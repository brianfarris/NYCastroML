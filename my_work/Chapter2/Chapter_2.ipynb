{
 "metadata": {
  "name": ""
 },
 "nbformat": 3,
 "nbformat_minor": 0,
 "worksheets": [
  {
   "cells": [
    {
     "cell_type": "heading",
     "level": 1,
     "metadata": {},
     "source": [
      "Sorting"
     ]
    },
    {
     "cell_type": "code",
     "collapsed": false,
     "input": [
      "import numpy as np\n",
      "np.random.seed(0)\n",
      "x=np.random.rand(10)\n",
      "print x"
     ],
     "language": "python",
     "metadata": {},
     "outputs": [
      {
       "output_type": "stream",
       "stream": "stdout",
       "text": [
        "[ 0.5488135   0.71518937  0.60276338  0.54488318  0.4236548   0.64589411\n",
        "  0.43758721  0.891773    0.96366276  0.38344152]\n"
       ]
      }
     ],
     "prompt_number": 1
    },
    {
     "cell_type": "markdown",
     "metadata": {},
     "source": [
      "we can sort the array in place as follows, but Hogg says this is usually a bad idea because it modifies the data"
     ]
    },
    {
     "cell_type": "code",
     "collapsed": false,
     "input": [
      "x.sort()"
     ],
     "language": "python",
     "metadata": {},
     "outputs": [],
     "prompt_number": 3
    },
    {
     "cell_type": "code",
     "collapsed": false,
     "input": [
      "print x"
     ],
     "language": "python",
     "metadata": {},
     "outputs": [
      {
       "output_type": "stream",
       "stream": "stdout",
       "text": [
        "[ 0.38344152  0.4236548   0.43758721  0.54488318  0.5488135   0.60276338\n",
        "  0.64589411  0.71518937  0.891773    0.96366276]\n"
       ]
      }
     ],
     "prompt_number": 4
    },
    {
     "cell_type": "markdown",
     "metadata": {},
     "source": [
      "Once it is sorted, we can search the sorted list for a desired value:"
     ]
    },
    {
     "cell_type": "code",
     "collapsed": false,
     "input": [
      "np.searchsorted(x,.5)"
     ],
     "language": "python",
     "metadata": {},
     "outputs": [
      {
       "metadata": {},
       "output_type": "pyout",
       "prompt_number": 6,
       "text": [
        "3"
       ]
      }
     ],
     "prompt_number": 6
    },
    {
     "cell_type": "markdown",
     "metadata": {},
     "source": [
      "Now let's create a 2d array of values and sort by the values in the first column, leaving each row intact."
     ]
    },
    {
     "cell_type": "code",
     "collapsed": false,
     "input": [
      "NumRows = 5\n",
      "NumCols = 3\n",
      "X = np.random.random((NumRows,NumCols))\n",
      "np.set_printoptions(precision=2)\n",
      "print X"
     ],
     "language": "python",
     "metadata": {},
     "outputs": [
      {
       "output_type": "stream",
       "stream": "stdout",
       "text": [
        "[[ 0.16  0.65  0.25]\n",
        " [ 0.47  0.24  0.16]\n",
        " [ 0.11  0.66  0.14]\n",
        " [ 0.2   0.37  0.82]\n",
        " [ 0.1   0.84  0.1 ]]\n"
       ]
      }
     ],
     "prompt_number": 15
    },
    {
     "cell_type": "code",
     "collapsed": false,
     "input": [
      "i_sort = np.argsort(X[:,0])\n",
      "print i_sort"
     ],
     "language": "python",
     "metadata": {},
     "outputs": [
      {
       "output_type": "stream",
       "stream": "stdout",
       "text": [
        "[4 2 0 3 1]\n"
       ]
      }
     ],
     "prompt_number": 16
    },
    {
     "cell_type": "code",
     "collapsed": false,
     "input": [
      "print X[i_sort]"
     ],
     "language": "python",
     "metadata": {},
     "outputs": [
      {
       "output_type": "stream",
       "stream": "stdout",
       "text": [
        "[[ 0.1   0.84  0.1 ]\n",
        " [ 0.11  0.66  0.14]\n",
        " [ 0.16  0.65  0.25]\n",
        " [ 0.2   0.37  0.82]\n",
        " [ 0.47  0.24  0.16]]\n"
       ]
      }
     ],
     "prompt_number": 17
    },
    {
     "cell_type": "heading",
     "level": 1,
     "metadata": {},
     "source": [
      "Multidimensional Search"
     ]
    },
    {
     "cell_type": "heading",
     "level": 2,
     "metadata": {},
     "source": [
      "Nearest-neighbor search"
     ]
    },
    {
     "cell_type": "markdown",
     "metadata": {},
     "source": [
      "This is the O(N^2) brute force method."
     ]
    },
    {
     "cell_type": "code",
     "collapsed": false,
     "input": [
      "import numpy as np\n",
      "\n",
      "def easy_nn(X):\n",
      "    N,D = X.shape\n",
      "    neighbors = np.zeros(N,dtype=int)\n",
      "    for i in range(N):\n",
      "        j_closest = i\n",
      "        d_closest = np.inf\n",
      "        for j in range(N):\n",
      "            if i==j:\n",
      "                continue\n",
      "            d = np.sqrt(np.sum((X[i]-X[j])**2))\n",
      "            if d<d_closest:\n",
      "                j_closest = j\n",
      "                d_closest = d\n",
      "        neighbors[i] = j_closest\n",
      "    return neighbors"
     ],
     "language": "python",
     "metadata": {},
     "outputs": [],
     "prompt_number": 21
    },
    {
     "cell_type": "code",
     "collapsed": false,
     "input": [
      "np.random.seed(0)\n",
      "X = np.random.random((10,3))\n",
      "easy_nn(X)"
     ],
     "language": "python",
     "metadata": {},
     "outputs": [
      {
       "metadata": {},
       "output_type": "pyout",
       "prompt_number": 23,
       "text": [
        "array([3, 7, 6, 0, 3, 1, 2, 1, 3, 7])"
       ]
      }
     ],
     "prompt_number": 23
    },
    {
     "cell_type": "markdown",
     "metadata": {},
     "source": [
      "Here is the vectorized version:"
     ]
    },
    {
     "cell_type": "code",
     "collapsed": false,
     "input": [
      "def vectorized_nn(X):\n",
      "    XXT = np.dot(X,X.T)\n",
      "    Xii = XXT.diagonal()\n",
      "    \n",
      "    D = Xii - 2*XXT + Xii[:,np.newaxis]\n",
      "    return np.argsort(D,axis=1)[:,1]"
     ],
     "language": "python",
     "metadata": {},
     "outputs": [],
     "prompt_number": 50
    },
    {
     "cell_type": "code",
     "collapsed": false,
     "input": [
      "np.random.seed(0)\n",
      "X = np.random.random((10,3))\n",
      "vectorized_nn(X)"
     ],
     "language": "python",
     "metadata": {},
     "outputs": [
      {
       "metadata": {},
       "output_type": "pyout",
       "prompt_number": 51,
       "text": [
        "array([3, 7, 6, 0, 3, 1, 2, 1, 3, 7])"
       ]
      }
     ],
     "prompt_number": 51
    },
    {
     "cell_type": "heading",
     "level": 1,
     "metadata": {},
     "source": [
      "Trees"
     ]
    },
    {
     "cell_type": "heading",
     "level": 2,
     "metadata": {},
     "source": [
      "kd-tree"
     ]
    },
    {
     "cell_type": "code",
     "collapsed": false,
     "input": [
      "import numpy as np\n",
      "import scipy.spatial\n",
      "np.random.seed(0)\n",
      "X = np.random.random((10,3))\n",
      "kdt = scipy.spatial.cKDTree(X)\n",
      "print X\n",
      "kdt.query(X,k=2)[1]"
     ],
     "language": "python",
     "metadata": {},
     "outputs": [
      {
       "output_type": "stream",
       "stream": "stdout",
       "text": [
        "[[ 0.55  0.72  0.6 ]\n",
        " [ 0.54  0.42  0.65]\n",
        " [ 0.44  0.89  0.96]\n",
        " [ 0.38  0.79  0.53]\n",
        " [ 0.57  0.93  0.07]\n",
        " [ 0.09  0.02  0.83]\n",
        " [ 0.78  0.87  0.98]\n",
        " [ 0.8   0.46  0.78]\n",
        " [ 0.12  0.64  0.14]\n",
        " [ 0.94  0.52  0.41]]\n"
       ]
      },
      {
       "metadata": {},
       "output_type": "pyout",
       "prompt_number": 62,
       "text": [
        "array([[0, 3],\n",
        "       [1, 7],\n",
        "       [2, 6],\n",
        "       [3, 0],\n",
        "       [4, 3],\n",
        "       [5, 1],\n",
        "       [6, 2],\n",
        "       [7, 1],\n",
        "       [8, 3],\n",
        "       [9, 7]])"
       ]
      }
     ],
     "prompt_number": 62
    },
    {
     "cell_type": "code",
     "collapsed": false,
     "input": [],
     "language": "python",
     "metadata": {},
     "outputs": []
    }
   ],
   "metadata": {}
  }
 ]
}